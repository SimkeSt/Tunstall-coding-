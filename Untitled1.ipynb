{
 "cells": [
  {
   "cell_type": "code",
   "execution_count": 83,
   "id": "1ac27a2a",
   "metadata": {},
   "outputs": [
    {
     "name": "stdout",
     "output_type": "stream",
     "text": [
      "Enter number of bits: 4\n",
      "Enter the string to be encoded: dddddbacdacdddddccddddddddddcdddadcddcddcdddcdccddddbdaddddddddadccddcdbdcddddbcdddddcccddddddcdcddddcddddddbdddaaddccddddcdbdaddddddddcdddddddddcbddcddddcdcddddcddddddcdddcdddbbddddcccdddbdcdddddcddddcdddddcbcbdddddbdaddcddcdccaddddbddcaddddbddadcddbcdddbddcdcddddbadddcdddddbdbdddadadcddddcddbdddbcddcddddaddabdddcdcddddddcddddddddddddddcdcddbdcdddddcccddddacddcddcdddcbddbdbdccdddddddddcddbddbbdccddddbdddbddddddddddddcddacddbbcbacdddddabddddddddaddddcddadbdcdddcbdbbddbddddcdaddddbdbddddcccdddbddddddddddddddcdddddddddbdddadddddddcdcdddcdcdddddbccddddcdcdddaddbcbccddddddbddddacdddddcdaddddddabddddcdadddcbddddddddaddddbbcdbdacdddddddddddddddddddddcdddddbddddacdddbcddcddcdddbdbddabdddddcddccadcdddddddddbdcdddcddbcdcbddadbdbdddddccdddddddabdddddcbdcbddbcccaddccccdcddddddddddddacdddbcddddddbdddcdddadddcbdcdccdcddddddccdddddddddddcddcddddddbdddacdbdddddddddddddddddbddddbddcdddddccddcddbbdcdddbccddbbddcbbcbcddbddddcbdcddaaddcddcdbddcaddddbddddddddddbdddddddddcdcdadcddaadddbdbdbcadddddcbacdaddd\n",
      "The set of alphabets and codes are: \n",
      "Alphabet\tCode\n",
      "-------------------------\n",
      "b\t0000\n",
      "a\t0001\n",
      "c\t0010\n",
      "db\t0011\n",
      "da\t0100\n",
      "dc\t0101\n",
      "ddb\t0110\n",
      "dda\t0111\n",
      "ddc\t1000\n",
      "dddb\t1001\n",
      "ddda\t1010\n",
      "dddc\t1011\n",
      "ddddd\t1100\n",
      "ddddb\t1101\n",
      "dddda\t1110\n",
      "ddddc\t1111\n",
      "the average lenght of codeword is: 3.125\n",
      "Generated tunstall code for string dddddbacdacdddddccddddddddddcdddadcddcddcdddcdccddddbdaddddddddadccddcdbdcddddbcdddddcccddddddcdcddddcddddddbdddaaddccddddcdbdaddddddddcdddddddddcbddcddddcdcddddcddddddcdddcdddbbddddcccdddbdcdddddcddddcdddddcbcbdddddbdaddcddcdccaddddbddcaddddbddadcddbcdddbddcdcddddbadddcdddddbdbdddadadcddddcddbdddbcddcddddaddabdddcdcddddddcddddddddddddddcdcddbdcdddddcccddddacddcddcdddcbddbdbdccdddddddddcddbddbbdccddddbdddbddddddddddddcddacddbbcbacdddddabddddddddaddddcddadbdcdddcbdbbddbddddcdaddddbdbddddcccdddbddddddddddddddcdddddddddbdddadddddddcdcdddcdcdddddbccddddcdcdddaddbcbccddddddbddddacdddddcdaddddddabddddcdadddcbddddddddaddddbbcdbdacdddddddddddddddddddddcdddddbddddacdddbcddcddcdddbdbddabdddddcddccadcdddddddddbdcdddcddbcdcbddadbdbdddddccdddddddabdddddcbdcbddbcccaddccccdcddddddddddddacdddbcddddddbdddcdddadddcbdcdccdcddddddccdddddddddddcddcddddddbdddacdbdddddddddddddddddbddddbddcdddddccddcddbbdcdddbccddbbddcbbcbcddbddddcbdcddaaddcddcdbddcaddddbddddddddddbdddddddddcdcdadcddaadddbdbdbcadddddcbacdaddd is: 1100000000010010010000101100001000101100110000101010010110001000101101010010110101001100101001010010100000110101110100101100001000100010110001010101111111000011101000011000001011110011010011001011110011110000100011110101111111000101101110010000111100100010100101011100001011111100001000000010000011000000010010001000010100100001110110000001110101110101011000101001100001011101000110111100000000111010010001011111011010010010100011100111000010110101110001011100110011110101011001011100001000100010111000101000100010110000011000110101001011001111011001100000010100101101100111001100100001110010011000000010000000010010110000010000110010101111011100110101101100000011000001101111010011010011111100100010100111001100111111001101101011001000010110110101110000000010001011110101101001100010000000100010110000111110001011000010010011000100000011110100101100001100101011010000001000110100001011001100110011000101110000001110001010010010100010001001001101110000110000101000001000010101110011010101101101100010010100000111001100111100001000101100011100001100001000000101000001100010001000100001100000100010001001011100110001110010100100101100001110111010101100000101010100100101110001010010110011000101100011000011101000100011110011001100011011011000110000100010100001100000010110010010001001100000100000000000001000000010011011110000010101110001100010000011100000011101110011000000110011110101010001010111000110010011001100100001110000100000000100100100\n",
      "---------------------------------------------------------------\n",
      "Decoded string is: dddddbacdacdddddccddddddddddcdddadcddcddcdddcdccddddbdaddddddddadccddcdbdcddddbcdddddcccddddddcdcddddcddddddbdddaaddccddddcdbdaddddddddcdddddddddcbddcddddcdcddddcddddddcdddcdddbbddddcccdddbdcdddddcddddcdddddcbcbdddddbdaddcddcdccaddddbddcaddddbddadcddbcdddbddcdcddddbadddcdddddbdbdddadadcddddcddbdddbcddcddddaddabdddcdcddddddcddddddddddddddcdcddbdcdddddcccddddacddcddcdddcbddbdbdccdddddddddcddbddbbdccddddbdddbddddddddddddcddacddbbcbacdddddabddddddddaddddcddadbdcdddcbdbbddbddddcdaddddbdbddddcccdddbddddddddddddddcdddddddddbdddadddddddcdcdddcdcdddddbccddddcdcdddaddbcbccddddddbddddacdddddcdaddddddabddddcdadddcbddddddddaddddbbcdbdacdddddddddddddddddddddcdddddbddddacdddbcddcddcdddbdbddabdddddcddccadcdddddddddbdcdddcddbcdcbddadbdbdddddccdddddddabdddddcbdcbddbcccaddccccdcddddddddddddacdddbcddddddbdddcdddadddcbdcdccdcddddddccdddddddddddcddcddddddbdddacdbdddddddddddddddddbddddbddcdddddccddcddbbdcdddbccddbbddcbbcbcddbddddcbdcddaaddcddcdbddcaddddbddddddddddbdddddddddcdcdadcddaadddbdbdbcadddddcbacda\n",
      "compression ratio for this is  72.2\n"
     ]
    }
   ],
   "source": [
    "import math\n",
    "import random\n",
    "\n",
    "\n",
    "def binary_fix(i, n):\n",
    "    binary = bin(i)\n",
    "    return binary[2:].zfill(n)\n",
    "\n",
    "\n",
    "def tunstall_encode(alpha, prob, k, N, n, string):\n",
    "    final = []\n",
    "    for i in range(N):\n",
    "        final.append([alpha[i], prob[i]])\n",
    "    for i in range(k):\n",
    "        last = max(final, key = lambda x:x[1])\n",
    "        for i in range(N):\n",
    "            final.append([last[0] + alpha[i], last[1] * prob[i]])\n",
    "        final.pop(final.index(last))\n",
    "    for i in range(len(final)):\n",
    "        final[i][1] = binary_fix(i, n)\n",
    "    print(\"The set of alphabets and codes are: \")\n",
    "    print(\"Alphabet\\tCode\")\n",
    "    print(\"-------------------------\")\n",
    "    total=0\n",
    "    for i in range(len(final)):\n",
    "        print(final[i][0], end = \"\\t\")\n",
    "        print(final[i][1])\n",
    "        total=total+len(final[i][0])\n",
    "    averagelen=total/len(final)\n",
    "    print(\"the average lenght of codeword is:\",averagelen)\n",
    "    stri = list(string)\n",
    "    encode = \"\"\n",
    "    count = 0\n",
    "    flag = 0\n",
    "    for i in range(len(stri)-1):\n",
    "        for j in range(len(final)):\n",
    "            if stri[i] == final[j][0]:\n",
    "                encode = encode + str(final[j][1])\n",
    "                flag = 1\n",
    "        if flag == 1:\n",
    "            flag = 0\n",
    "        else:\n",
    "            count = count + 1\n",
    "            if count == len(stri):\n",
    "                break\n",
    "            else:\n",
    "                stri.insert(i + 1,str(stri[i]+stri[i + 1]))\n",
    "                stri.pop(i + 2)\n",
    "    print(\"Generated tunstall code for string \" + string + \" is: \" + encode)\n",
    "    return[encode, final, n]\n",
    "\n",
    "\n",
    "def tunstall_decode(master_directory):\n",
    "    encode = master_directory[0]\n",
    "    final = master_directory[1]\n",
    "    n = master_directory[2]    \n",
    "    decode = []\n",
    "    while encode:\n",
    "        decode.append(encode[:n])\n",
    "        encode = encode[n:]\n",
    "    string = \"\"\n",
    "    for i in range(len(decode)):\n",
    "        for j in range(len(final)):\n",
    "            if decode[i] == str(final[j][1]):\n",
    "                string = string + final[j][0]\n",
    "    print(\"---------------------------------------------------------------\")\n",
    "    print(\"Decoded string is:\", end = \" \")\n",
    "    return string\n",
    "\n",
    "\n",
    "n = int(input(\"Enter number of bits: \" ))\n",
    "string = input(\"Enter the string to be encoded: \")\n",
    "len_str = len(string)\n",
    "dictionary = dict()\n",
    "for i in string:\n",
    "    if i in dictionary:\n",
    "        dictionary[i] = dictionary[i] + 1\n",
    "    else:\n",
    "        dictionary[i] = 1\n",
    "alphabet = []\n",
    "probability = []\n",
    "for i in dictionary.items():\n",
    "    alphabet.append(i[0])\n",
    "    probability.append(i[1])\n",
    "for i in range(len(probability)):\n",
    "    probability[i] = probability[i] / len_str\n",
    "N = len(alphabet)\n",
    "k = math.floor(((2 ** n) - N)/ (N - 1))\n",
    "master_directory = tunstall_encode(alphabet, probability, k, N, n, string)\n",
    "print(tunstall_decode(master_directory))\n",
    "print(\"compression ratio for this is \", (len((master_directory[0]))/2000*100))\n"
   ]
  },
  {
   "cell_type": "code",
   "execution_count": 61,
   "id": "4797d180",
   "metadata": {},
   "outputs": [],
   "source": [
    "def coder(n):\n",
    "    arr=[\"k\"]*100;\n",
    "    for i in range(5):\n",
    "        arr[i]=\"a\";\n",
    "    for i in range(5,15):\n",
    "        arr[i]=\"b\";\n",
    "    for i in range(15,30):\n",
    "        arr[i]=\"c\";\n",
    "    for i in range(30,100):\n",
    "        arr[i]=\"d\";\n",
    "        \n",
    "    arr1=(\"\");\n",
    "    for i in range(n):\n",
    "        k=(random.randint(0, 99))\n",
    "        arr1=arr1+(arr[k])\n",
    "        \n",
    "    return arr1;"
   ]
  },
  {
   "cell_type": "code",
   "execution_count": 75,
   "id": "d1efcf30",
   "metadata": {},
   "outputs": [],
   "source": [
    "idk=coder(1000)"
   ]
  },
  {
   "cell_type": "code",
   "execution_count": 76,
   "id": "7b9f38e2",
   "metadata": {},
   "outputs": [
    {
     "data": {
      "text/plain": [
       "'dddddbacdacdddddccddddddddddcdddadcddcddcdddcdccddddbdaddddddddadccddcdbdcddddbcdddddcccddddddcdcddddcddddddbdddaaddccddddcdbdaddddddddcdddddddddcbddcddddcdcddddcddddddcdddcdddbbddddcccdddbdcdddddcddddcdddddcbcbdddddbdaddcddcdccaddddbddcaddddbddadcddbcdddbddcdcddddbadddcdddddbdbdddadadcddddcddbdddbcddcddddaddabdddcdcddddddcddddddddddddddcdcddbdcdddddcccddddacddcddcdddcbddbdbdccdddddddddcddbddbbdccddddbdddbddddddddddddcddacddbbcbacdddddabddddddddaddddcddadbdcdddcbdbbddbddddcdaddddbdbddddcccdddbddddddddddddddcdddddddddbdddadddddddcdcdddcdcdddddbccddddcdcdddaddbcbccddddddbddddacdddddcdaddddddabddddcdadddcbddddddddaddddbbcdbdacdddddddddddddddddddddcdddddbddddacdddbcddcddcdddbdbddabdddddcddccadcdddddddddbdcdddcddbcdcbddadbdbdddddccdddddddabdddddcbdcbddbcccaddccccdcddddddddddddacdddbcddddddbdddcdddadddcbdcdccdcddddddccdddddddddddcddcddddddbdddacdbdddddddddddddddddbddddbddcdddddccddcddbbdcdddbccddbbddcbbcbcddbddddcbdcddaaddcddcdbddcaddddbddddddddddbdddddddddcdcdadcddaadddbdbdbcadddddcbacdaddd'"
      ]
     },
     "execution_count": 76,
     "metadata": {},
     "output_type": "execute_result"
    }
   ],
   "source": [
    "idk"
   ]
  },
  {
   "cell_type": "code",
   "execution_count": null,
   "id": "0266d3bb",
   "metadata": {},
   "outputs": [],
   "source": [
    "compressionratio=2000/"
   ]
  },
  {
   "cell_type": "code",
   "execution_count": null,
   "id": "b75d2eaf",
   "metadata": {},
   "outputs": [],
   "source": []
  },
  {
   "cell_type": "code",
   "execution_count": null,
   "id": "0770ee1d",
   "metadata": {},
   "outputs": [],
   "source": []
  }
 ],
 "metadata": {
  "kernelspec": {
   "display_name": "Python 3 (ipykernel)",
   "language": "python",
   "name": "python3"
  },
  "language_info": {
   "codemirror_mode": {
    "name": "ipython",
    "version": 3
   },
   "file_extension": ".py",
   "mimetype": "text/x-python",
   "name": "python",
   "nbconvert_exporter": "python",
   "pygments_lexer": "ipython3",
   "version": "3.9.7"
  }
 },
 "nbformat": 4,
 "nbformat_minor": 5
}
